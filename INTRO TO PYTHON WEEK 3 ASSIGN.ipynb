{
 "cells": [
  {
   "cell_type": "code",
   "execution_count": 26,
   "metadata": {},
   "outputs": [
    {
     "name": "stdout",
     "output_type": "stream",
     "text": [
      "This is the sum 38\n"
     ]
    }
   ],
   "source": [
    "#Given that\n",
    "#A = [5, 8, 15 7, 3]\n",
    "#Write a Python program to sum all the items in A\n",
    "\n",
    "v = 0\n",
    "A = [5, 8, 15, 7, 3]\n",
    "for element in A:\n",
    "    v += element\n",
    "print(\"This is the sum\", v)"
   ]
  },
  {
   "cell_type": "code",
   "execution_count": 27,
   "metadata": {},
   "outputs": [
    {
     "name": "stdout",
     "output_type": "stream",
     "text": [
      "This is the sum 173\n"
     ]
    }
   ],
   "source": [
    "c = 0\n",
    "B = [5, 8, 157, 3]\n",
    "for n in B:\n",
    "    c += n\n",
    "print(\"This is the sum\", c)   "
   ]
  },
  {
   "cell_type": "code",
   "execution_count": 2,
   "metadata": {},
   "outputs": [
    {
     "name": "stdout",
     "output_type": "stream",
     "text": [
      "['April', 'August', 'DSN', 'February', 'January', 'July', 'June', 'March', 'May', 'November', 'October', 'September']\n"
     ]
    }
   ],
   "source": [
    "#Write a Python program to\n",
    "#Get Months sorted in increasing order\n",
    "\n",
    "\n",
    "Months = ['January', 'February', 'DSN', 'March', 'April', 'May', 'June', 'July','August', 'September', 'October', 'November']\n",
    "Months.sort()\n",
    "print(Months)\n"
   ]
  },
  {
   "cell_type": "code",
   "execution_count": 3,
   "metadata": {},
   "outputs": [
    {
     "name": "stdout",
     "output_type": "stream",
     "text": [
      "['April', 'August', 'DSN', 'February', 'January', 'July', 'June', 'March', 'May', 'November', 'October', 'September', 'December']\n"
     ]
    }
   ],
   "source": [
    "#Add December to months\n",
    "\n",
    "Months.append(\"December\")\n",
    "print(Months)"
   ]
  },
  {
   "cell_type": "code",
   "execution_count": 6,
   "metadata": {},
   "outputs": [
    {
     "name": "stdout",
     "output_type": "stream",
     "text": [
      "['September', 'October', 'November', 'May', 'March', 'June', 'July', 'January', 'February', 'December', 'DSN', 'August', 'April']\n"
     ]
    }
   ],
   "source": [
    "#Reverse elements of Months\n",
    "\n",
    "Months.sort(reverse = True)\n",
    "print(Months)\n"
   ]
  },
  {
   "cell_type": "code",
   "execution_count": 9,
   "metadata": {},
   "outputs": [
    {
     "name": "stdout",
     "output_type": "stream",
     "text": [
      "['September', 'October', 'November', 'May', 'March', 'June', 'July', 'January', 'February', 'December', 'August', 'April']\n"
     ]
    }
   ],
   "source": [
    "#OR\n",
    "\n",
    "Months.reverse()\n",
    "print(Months)"
   ]
  },
  {
   "cell_type": "code",
   "execution_count": 7,
   "metadata": {},
   "outputs": [
    {
     "name": "stdout",
     "output_type": "stream",
     "text": [
      "['September', 'October', 'November', 'May', 'March', 'June', 'July', 'January', 'February', 'December', 'August', 'April']\n"
     ]
    }
   ],
   "source": [
    "#remove/delete 'DSN' form months\n",
    "\n",
    "Months.remove(\"DSN\")\n",
    "print(Months)"
   ]
  },
  {
   "cell_type": "code",
   "execution_count": null,
   "metadata": {},
   "outputs": [],
   "source": []
  },
  {
   "cell_type": "code",
   "execution_count": null,
   "metadata": {},
   "outputs": [],
   "source": []
  },
  {
   "cell_type": "code",
   "execution_count": null,
   "metadata": {},
   "outputs": [],
   "source": []
  },
  {
   "cell_type": "code",
   "execution_count": null,
   "metadata": {},
   "outputs": [],
   "source": []
  },
  {
   "cell_type": "code",
   "execution_count": null,
   "metadata": {},
   "outputs": [],
   "source": []
  }
 ],
 "metadata": {
  "kernelspec": {
   "display_name": "Python 3",
   "language": "python",
   "name": "python3"
  },
  "language_info": {
   "codemirror_mode": {
    "name": "ipython",
    "version": 3
   },
   "file_extension": ".py",
   "mimetype": "text/x-python",
   "name": "python",
   "nbconvert_exporter": "python",
   "pygments_lexer": "ipython3",
   "version": "3.6.8"
  }
 },
 "nbformat": 4,
 "nbformat_minor": 2
}
