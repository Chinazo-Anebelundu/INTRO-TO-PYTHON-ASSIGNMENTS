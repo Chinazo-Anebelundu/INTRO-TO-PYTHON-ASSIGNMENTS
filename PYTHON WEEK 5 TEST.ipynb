{
 "cells": [
  {
   "cell_type": "code",
   "execution_count": 2,
   "metadata": {},
   "outputs": [
    {
     "name": "stdout",
     "output_type": "stream",
     "text": [
      "hello world\n"
     ]
    }
   ],
   "source": [
    "#1) PRINT \"hello world\"\n",
    "\n",
    "print(\"hello world\")"
   ]
  },
  {
   "cell_type": "code",
   "execution_count": 17,
   "metadata": {},
   "outputs": [
    {
     "name": "stdout",
     "output_type": "stream",
     "text": [
      "Hello Tilda\n"
     ]
    },
    {
     "data": {
      "text/plain": [
       "5"
      ]
     },
     "execution_count": 17,
     "metadata": {},
     "output_type": "execute_result"
    }
   ],
   "source": [
    "#2) Request a user's name, create a variable called greeting and assign \"hello\" and finally print - hello username \n",
    "#from the variables\n",
    "\n",
    "Greeting = input(\"Hello \")\n",
    "\n",
    "len(Greeting)"
   ]
  },
  {
   "cell_type": "code",
   "execution_count": 11,
   "metadata": {},
   "outputs": [
    {
     "name": "stdout",
     "output_type": "stream",
     "text": [
      "lioness\n",
      "LIONESS\n"
     ]
    }
   ],
   "source": [
    "#4) Create a variable named my_pet and assign the name of an animal to it...\n",
    "# -Convert your pet name to all lower case.\n",
    "# -Convert your pet name to all upper case.\n",
    "\n",
    "My_pet = \"Lioness\"\n",
    "print(My_pet.lower())\n",
    "print(My_pet.upper())"
   ]
  },
  {
   "cell_type": "code",
   "execution_count": 25,
   "metadata": {},
   "outputs": [
    {
     "name": "stdout",
     "output_type": "stream",
     "text": [
      "Age is 15\n",
      "Make good use of this opportunity\n"
     ]
    }
   ],
   "source": [
    "#5) Write a python program to accept and check a user's age;\n",
    "#If age is less than 12 print, you're lucky to be here.\n",
    "#If age is between 12 and 20 print, make good use of this opportunity.\n",
    "#If age is above 20 print, learning is a continuous process, start learning?\n",
    "\n",
    "Age = int(input(\"Age is \"))\n",
    "if Age < 12:\n",
    "    print(\"You're lucky to be here\")\n",
    "elif Age > 12 and Age < 20:\n",
    "    print(\"Make good use of this opportunity\")\n",
    "elif Age > 20:\n",
    "    print(\"Learning is a continuous process, start learning?\")\n"
   ]
  },
  {
   "cell_type": "code",
   "execution_count": 34,
   "metadata": {},
   "outputs": [
    {
     "name": "stdout",
     "output_type": "stream",
     "text": [
      "Me: Wetin dem score? \n",
      "Akpos: 10\n",
      "Akpos: The game sweet die!\n"
     ]
    }
   ],
   "source": [
    "#6) Write a python program to comment on how interesting a football match is...\n",
    "#if no goals were scored, Python should say \"the game was a bore draw!\"\n",
    "#1-2 goals: \"Not the most interesting game.\"\n",
    "#3-5 goals: \"It was a very interesting game.\"\n",
    "#6+ goals: \"The football match was an unmissable game!\"\n",
    "\n",
    "Goal = int(input(\"Me: Wetin dem score? \\nAkpos: \"))\n",
    "if Goal == 0:\n",
    "    print(\"Akpos: Them no score. Be like make I begin sleep for that bar.\")\n",
    "elif Goal >= 1 and Goal <= 2:\n",
    "    print(\"Akpos: The game just dey. Dem try.\")\n",
    "elif Goal >= 3 and Goal <= 5:\n",
    "    print(\"Akpos: The game sweet meen.\")\n",
    "else:\n",
    "    print(\"Akpos: The game sweet die!\")\n",
    "    "
   ]
  },
  {
   "cell_type": "code",
   "execution_count": 36,
   "metadata": {},
   "outputs": [
    {
     "name": "stdout",
     "output_type": "stream",
     "text": [
      "Choose a num 4\n",
      "16\n"
     ]
    }
   ],
   "source": [
    "#Write a program to calculate the square of a number if the number is greater than zero.\n",
    "\n",
    "num = int(input(\"Choose a num: \"))\n",
    "if num > 0:\n",
    "    print(num ** 2)\n",
    "        "
   ]
  },
  {
   "cell_type": "markdown",
   "metadata": {},
   "source": [
    "# OR"
   ]
  },
  {
   "cell_type": "code",
   "execution_count": 37,
   "metadata": {},
   "outputs": [
    {
     "data": {
      "text/plain": [
       "25"
      ]
     },
     "execution_count": 37,
     "metadata": {},
     "output_type": "execute_result"
    }
   ],
   "source": [
    "def squared(X):\n",
    "    if X > 0:\n",
    "        Ans = X ** 2\n",
    "    return Ans\n",
    "\n",
    "squared(5)"
   ]
  },
  {
   "cell_type": "code",
   "execution_count": 13,
   "metadata": {},
   "outputs": [
    {
     "name": "stdout",
     "output_type": "stream",
     "text": [
      "Welcome to our calculator. \n",
      "-Enter the first number: \n",
      "-Enter the second number: \n",
      "\n",
      "                   -Choose one of the following operations: \n",
      "\n",
      "                   1 - addition \n",
      "\n",
      "                   2 - subtraction \n",
      "\n",
      "                   3 - multiplication \n",
      "\n",
      "                   4 - division \n",
      "\n",
      "                   -result: \n",
      "\n",
      "                   -Thank you for using our calculator.\n",
      "4\n"
     ]
    }
   ],
   "source": [
    "#Reproduce this calculator output:\n",
    "# *-Welcome to our calculator.\n",
    "# *-Enter the first number:\n",
    "# *-Enter the second number:\n",
    "# *-Choose one of the following operations:\n",
    "\n",
    "# 1 - addition\n",
    "# 2 - subtraction\n",
    "# 3 - multiplication\n",
    "# 4 - division\n",
    "\n",
    "# *-result:\n",
    "# *-Thank you for using our calculator.\n",
    "\n",
    "\n",
    "def addition(m, n):\n",
    "    o = m + n\n",
    "    return o\n",
    "\n",
    "def subtraction(c, d):\n",
    "    e = c - d\n",
    "    return e\n",
    "\n",
    "def multiplication(g, h):\n",
    "    i = g * h\n",
    "    return i\n",
    "\n",
    "def division(x, y):\n",
    "    z = x / y\n",
    "    return z\n",
    "\n",
    "\n",
    "Calculator = input('''Welcome to our calculator. \\n-Enter the first number: \\n-Enter the second number: \\n\n",
    "                   -Choose one of the following operations: \\n\n",
    "                   1 - addition \\n\n",
    "                   2 - subtraction \\n\n",
    "                   3 - multiplication \\n\n",
    "                   4 - division \\n\n",
    "                   -result: \\n\n",
    "                   -Thank you for using our calculator.\\n''')\n",
    "if input == 1:\n",
    "    print(\"Addition\")\n",
    "elif input == 2:\n",
    "    print(\"Subtraction\")\n",
    "elif input == 3:\n",
    "    print(\"Multiplication\")\n",
    "elif input == 4:\n",
    "    print(\"Division\")"
   ]
  }
 ],
 "metadata": {
  "kernelspec": {
   "display_name": "Python 3",
   "language": "python",
   "name": "python3"
  },
  "language_info": {
   "codemirror_mode": {
    "name": "ipython",
    "version": 3
   },
   "file_extension": ".py",
   "mimetype": "text/x-python",
   "name": "python",
   "nbconvert_exporter": "python",
   "pygments_lexer": "ipython3",
   "version": "3.6.8"
  }
 },
 "nbformat": 4,
 "nbformat_minor": 2
}
